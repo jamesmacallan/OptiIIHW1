{
  "cells": [
    {
      "cell_type": "code",
      "execution_count": null,
      "id": "25ec9f81",
      "metadata": {
        "id": "25ec9f81"
      },
      "outputs": [],
      "source": [
        "import matplotlib.pyplot as plt\n",
        "\n",
        "from matplotlib.pyplot import figure"
      ]
    },
    {
      "cell_type": "code",
      "execution_count": null,
      "id": "1d794c22",
      "metadata": {
        "id": "1d794c22"
      },
      "outputs": [],
      "source": [
        "import tensorflow as tf\n",
        "from tensorflow import keras\n",
        "from tensorflow.keras import layers\n",
        "from tensorflow.keras.models import Sequential"
      ]
    },
    {
      "cell_type": "code",
      "execution_count": null,
      "id": "8e59eef4",
      "metadata": {
        "id": "8e59eef4",
        "colab": {
          "base_uri": "https://localhost:8080/"
        },
        "outputId": "68231bde-c24f-456d-a6f6-43fc66c07774"
      },
      "outputs": [
        {
          "output_type": "stream",
          "name": "stdout",
          "text": [
            "Downloading data from https://storage.googleapis.com/tensorflow/tf-keras-datasets/mnist.npz\n",
            "11490434/11490434 [==============================] - 2s 0us/step\n"
          ]
        }
      ],
      "source": [
        "mnist = tf.keras.datasets.mnist\n",
        "(x_train, y_train),(x_test, y_test) = mnist.load_data()\n",
        "x_train, x_test = x_train / 255.0, x_test / 255.0\n",
        "\n",
        "ndata_train = x_train.shape[0]\n",
        "ndata_test = x_test.shape[0]"
      ]
    },
    {
      "cell_type": "code",
      "execution_count": null,
      "id": "f0e8d4ec",
      "metadata": {
        "id": "f0e8d4ec"
      },
      "outputs": [],
      "source": [
        "x_train_new = x_train.reshape((ndata_train,28,28,1))\n",
        "x_test_new = x_test.reshape((ndata_test,28,28,1))\n",
        "xshape = x_train_new.shape[1:4]"
      ]
    },
    {
      "cell_type": "code",
      "source": [
        "xshape"
      ],
      "metadata": {
        "colab": {
          "base_uri": "https://localhost:8080/"
        },
        "id": "VYF7t-32DKKv",
        "outputId": "262c5f1a-55e0-4f74-93ae-954e3866093d"
      },
      "id": "VYF7t-32DKKv",
      "execution_count": null,
      "outputs": [
        {
          "output_type": "execute_result",
          "data": {
            "text/plain": [
              "(28, 28, 1)"
            ]
          },
          "metadata": {},
          "execution_count": 8
        }
      ]
    },
    {
      "cell_type": "markdown",
      "source": [
        "The base of the model consists of 4 convolutional layers accompanied with 2 fully connected layers. The convolutional layers were placed in sets of 2 and are used in tandem with MaxPooling and Dropout. We had originally neglected to use dropout, however, we noticed overfitting after 12 epochs. Dropout seemed like the natural choice to prevent overfitting. The first two convolutional layers have 32 filters,and the last two have 64. The number ascends because as the CNN progresses, there are more combinations of patterns to capture, hence the need for more filters. (source: https://datascience.stackexchange.com/questions/55545/in-cnn-why-do-we-increase-the-number-of-filters-in-deeper-convolution-layers-fo#:~:text=The%20higher%20the%20number%20of,especially%20true%20for%20image%20data) The other \"semi-unique\" thing we added was the regularization stage in the convolutional layers. This was our original pre-measure to overfitting, as penalizing the loss function causes the weights to be slightly smaller, preventing the exploding gradient problem. The fully connected layers are of course preceded by a flattening layer. Our output layer consisted of 10 potential categories (0-9) in the MNIST dataset, and the activation used was softmax, standard for giving probabilities for each class label. "
      ],
      "metadata": {
        "id": "VA2GyDtbHcC0"
      },
      "id": "VA2GyDtbHcC0"
    },
    {
      "cell_type": "code",
      "execution_count": null,
      "id": "dd8dc0a9",
      "metadata": {
        "id": "dd8dc0a9"
      },
      "outputs": [],
      "source": [
        "model = Sequential()\n",
        "model.add(tf.keras.layers.Conv2D(input_shape=xshape, filters = 32, kernel_size = (3,3), activation = \"relu\", kernel_regularizer=tf.keras.regularizers.L2(l2=0.0005))),\n",
        "model.add(tf.keras.layers.Conv2D(filters = 32, kernel_size = (3,3), strides = 1, activation=\"relu\")),\n",
        "model.add(tf.keras.layers.MaxPooling2D(pool_size = (2,2), strides = (2,2))),\n",
        "model.add(tf.keras.layers.Dropout(0.2)),\n",
        "model.add(tf.keras.layers.Conv2D(filters = 64, kernel_size = (3,3), activation = \"relu\", kernel_regularizer=tf.keras.regularizers.L2(l2=0.0005))),\n",
        "model.add(tf.keras.layers.Conv2D(filters = 64, kernel_size = (3,3), strides = 1, activation = \"relu\")),\n",
        "model.add(tf.keras.layers.MaxPooling2D(pool_size = (2,2), strides = (2,2))),\n",
        "model.add(tf.keras.layers.Dropout(0.2)),\n",
        "model.add(tf.keras.layers.Flatten()),\n",
        "model.add(tf.keras.layers.Dense(units = 256, activation=\"relu\")),\n",
        "model.add(tf.keras.layers.Dense(units = 128, activation=\"relu\")),\n",
        "model.add(tf.keras.layers.Dense(units = 10, activation = \"softmax\"))"
      ]
    },
    {
      "cell_type": "code",
      "execution_count": null,
      "id": "268a75ac",
      "metadata": {
        "colab": {
          "base_uri": "https://localhost:8080/"
        },
        "id": "268a75ac",
        "outputId": "4910b26d-d658-42e1-ea14-bea0607c54be"
      },
      "outputs": [
        {
          "output_type": "stream",
          "name": "stdout",
          "text": [
            "Model: \"sequential\"\n",
            "_________________________________________________________________\n",
            " Layer (type)                Output Shape              Param #   \n",
            "=================================================================\n",
            " conv2d (Conv2D)             (None, 26, 26, 32)        320       \n",
            "                                                                 \n",
            " conv2d_1 (Conv2D)           (None, 24, 24, 32)        9248      \n",
            "                                                                 \n",
            " max_pooling2d (MaxPooling2D  (None, 12, 12, 32)       0         \n",
            " )                                                               \n",
            "                                                                 \n",
            " dropout (Dropout)           (None, 12, 12, 32)        0         \n",
            "                                                                 \n",
            " conv2d_2 (Conv2D)           (None, 10, 10, 64)        18496     \n",
            "                                                                 \n",
            " conv2d_3 (Conv2D)           (None, 8, 8, 64)          36928     \n",
            "                                                                 \n",
            " max_pooling2d_1 (MaxPooling  (None, 4, 4, 64)         0         \n",
            " 2D)                                                             \n",
            "                                                                 \n",
            " dropout_1 (Dropout)         (None, 4, 4, 64)          0         \n",
            "                                                                 \n",
            " flatten (Flatten)           (None, 1024)              0         \n",
            "                                                                 \n",
            " dense (Dense)               (None, 256)               262400    \n",
            "                                                                 \n",
            " dense_1 (Dense)             (None, 128)               32896     \n",
            "                                                                 \n",
            " dense_2 (Dense)             (None, 10)                1290      \n",
            "                                                                 \n",
            "=================================================================\n",
            "Total params: 361,578\n",
            "Trainable params: 361,578\n",
            "Non-trainable params: 0\n",
            "_________________________________________________________________\n"
          ]
        }
      ],
      "source": [
        "model.compile(optimizer='adam',\n",
        "              loss='sparse_categorical_crossentropy',\n",
        "              metrics=['accuracy'])\n",
        "\n",
        "model.summary()"
      ]
    },
    {
      "cell_type": "code",
      "execution_count": null,
      "id": "14340b93",
      "metadata": {
        "colab": {
          "base_uri": "https://localhost:8080/"
        },
        "id": "14340b93",
        "outputId": "9c74f472-12df-49b3-be54-e1b208d894b0"
      },
      "outputs": [
        {
          "output_type": "stream",
          "name": "stdout",
          "text": [
            "Epoch 1/12\n",
            "188/188 [==============================] - 12s 16ms/step - loss: 0.3489 - accuracy: 0.8982 - val_loss: 0.0978 - val_accuracy: 0.9775\n",
            "Epoch 2/12\n",
            "188/188 [==============================] - 3s 14ms/step - loss: 0.0977 - accuracy: 0.9751 - val_loss: 0.0674 - val_accuracy: 0.9852\n",
            "Epoch 3/12\n",
            "188/188 [==============================] - 3s 14ms/step - loss: 0.0665 - accuracy: 0.9836 - val_loss: 0.0690 - val_accuracy: 0.9847\n",
            "Epoch 4/12\n",
            "188/188 [==============================] - 3s 14ms/step - loss: 0.0562 - accuracy: 0.9866 - val_loss: 0.0541 - val_accuracy: 0.9886\n",
            "Epoch 5/12\n",
            "188/188 [==============================] - 3s 14ms/step - loss: 0.0443 - accuracy: 0.9892 - val_loss: 0.0487 - val_accuracy: 0.9889\n",
            "Epoch 6/12\n",
            "188/188 [==============================] - 3s 14ms/step - loss: 0.0384 - accuracy: 0.9909 - val_loss: 0.0543 - val_accuracy: 0.9867\n",
            "Epoch 7/12\n",
            "188/188 [==============================] - 3s 14ms/step - loss: 0.0352 - accuracy: 0.9915 - val_loss: 0.0372 - val_accuracy: 0.9909\n",
            "Epoch 8/12\n",
            "188/188 [==============================] - 3s 14ms/step - loss: 0.0292 - accuracy: 0.9933 - val_loss: 0.0371 - val_accuracy: 0.9911\n",
            "Epoch 9/12\n",
            "188/188 [==============================] - 3s 16ms/step - loss: 0.0276 - accuracy: 0.9931 - val_loss: 0.0356 - val_accuracy: 0.9917\n",
            "Epoch 10/12\n",
            "188/188 [==============================] - 3s 16ms/step - loss: 0.0243 - accuracy: 0.9941 - val_loss: 0.0452 - val_accuracy: 0.9901\n",
            "Epoch 11/12\n",
            "188/188 [==============================] - 3s 14ms/step - loss: 0.0218 - accuracy: 0.9945 - val_loss: 0.0397 - val_accuracy: 0.9910\n",
            "Epoch 12/12\n",
            "188/188 [==============================] - 3s 15ms/step - loss: 0.0230 - accuracy: 0.9943 - val_loss: 0.0384 - val_accuracy: 0.9917\n"
          ]
        },
        {
          "output_type": "execute_result",
          "data": {
            "text/plain": [
              "<keras.callbacks.History at 0x7f03625936a0>"
            ]
          },
          "metadata": {},
          "execution_count": 11
        }
      ],
      "source": [
        "model.fit(x_train,y_train,epochs=12,validation_split=0.2,batch_size=256)"
      ]
    },
    {
      "cell_type": "code",
      "execution_count": null,
      "id": "c9baf449",
      "metadata": {
        "id": "c9baf449",
        "colab": {
          "base_uri": "https://localhost:8080/"
        },
        "outputId": "9deffac5-3694-4a8a-cdb8-91caecdce717"
      },
      "outputs": [
        {
          "output_type": "stream",
          "name": "stdout",
          "text": [
            "313/313 [==============================] - 1s 3ms/step - loss: 0.0305 - accuracy: 0.9917\n",
            "This model predicts 99.16999936103821% of the test data correctly\n"
          ]
        }
      ],
      "source": [
        "print('This model predicts '+str(model.evaluate(x_test,y_test)[1]*100) +'% of the test data correctly')"
      ]
    },
    {
      "cell_type": "code",
      "execution_count": null,
      "id": "00cf6436",
      "metadata": {
        "id": "00cf6436"
      },
      "outputs": [],
      "source": [
        "from keras.models import load_model\n",
        "model.save(\"mnistmodel.h5\")\n",
        "loaded_model = load_model(\"mnistmodel.h5\")\n",
        "# loss, accuracy = loaded_model.evaluate(test_data, test_targets)"
      ]
    },
    {
      "cell_type": "code",
      "execution_count": null,
      "id": "6d742a65",
      "metadata": {
        "id": "6d742a65"
      },
      "outputs": [],
      "source": [
        "import numpy as np\n",
        "import pandas as pd"
      ]
    },
    {
      "cell_type": "code",
      "source": [
        "from google.colab import drive\n",
        "drive.mount('/content/drive')"
      ],
      "metadata": {
        "colab": {
          "base_uri": "https://localhost:8080/"
        },
        "id": "k5iJ1WwXwhvl",
        "outputId": "8c763189-07e5-4b21-9a24-8c644f67210b"
      },
      "id": "k5iJ1WwXwhvl",
      "execution_count": null,
      "outputs": [
        {
          "output_type": "stream",
          "name": "stdout",
          "text": [
            "Mounted at /content/drive\n"
          ]
        }
      ]
    },
    {
      "cell_type": "code",
      "source": [
        "# COLAB\n",
        "from google.colab import files\n",
        "uploaded = files.upload()\n",
        "\n",
        "with open('sample_data.csv', 'r', encoding='utf-8-sig') as f: \n",
        "    input_arr = np.genfromtxt(f, dtype=float, delimiter=',') # trying to solve BOM issue (Byte Order Mark)"
      ],
      "metadata": {
        "colab": {
          "base_uri": "https://localhost:8080/",
          "height": 73
        },
        "id": "UWrAclGE68g0",
        "outputId": "404dc799-a605-4e3a-b8b0-a2e81aecba9a"
      },
      "id": "UWrAclGE68g0",
      "execution_count": null,
      "outputs": [
        {
          "output_type": "display_data",
          "data": {
            "text/plain": [
              "<IPython.core.display.HTML object>"
            ],
            "text/html": [
              "\n",
              "     <input type=\"file\" id=\"files-2e05ce49-1866-44d8-a75b-b1c53b4e5738\" name=\"files[]\" multiple disabled\n",
              "        style=\"border:none\" />\n",
              "     <output id=\"result-2e05ce49-1866-44d8-a75b-b1c53b4e5738\">\n",
              "      Upload widget is only available when the cell has been executed in the\n",
              "      current browser session. Please rerun this cell to enable.\n",
              "      </output>\n",
              "      <script>// Copyright 2017 Google LLC\n",
              "//\n",
              "// Licensed under the Apache License, Version 2.0 (the \"License\");\n",
              "// you may not use this file except in compliance with the License.\n",
              "// You may obtain a copy of the License at\n",
              "//\n",
              "//      http://www.apache.org/licenses/LICENSE-2.0\n",
              "//\n",
              "// Unless required by applicable law or agreed to in writing, software\n",
              "// distributed under the License is distributed on an \"AS IS\" BASIS,\n",
              "// WITHOUT WARRANTIES OR CONDITIONS OF ANY KIND, either express or implied.\n",
              "// See the License for the specific language governing permissions and\n",
              "// limitations under the License.\n",
              "\n",
              "/**\n",
              " * @fileoverview Helpers for google.colab Python module.\n",
              " */\n",
              "(function(scope) {\n",
              "function span(text, styleAttributes = {}) {\n",
              "  const element = document.createElement('span');\n",
              "  element.textContent = text;\n",
              "  for (const key of Object.keys(styleAttributes)) {\n",
              "    element.style[key] = styleAttributes[key];\n",
              "  }\n",
              "  return element;\n",
              "}\n",
              "\n",
              "// Max number of bytes which will be uploaded at a time.\n",
              "const MAX_PAYLOAD_SIZE = 100 * 1024;\n",
              "\n",
              "function _uploadFiles(inputId, outputId) {\n",
              "  const steps = uploadFilesStep(inputId, outputId);\n",
              "  const outputElement = document.getElementById(outputId);\n",
              "  // Cache steps on the outputElement to make it available for the next call\n",
              "  // to uploadFilesContinue from Python.\n",
              "  outputElement.steps = steps;\n",
              "\n",
              "  return _uploadFilesContinue(outputId);\n",
              "}\n",
              "\n",
              "// This is roughly an async generator (not supported in the browser yet),\n",
              "// where there are multiple asynchronous steps and the Python side is going\n",
              "// to poll for completion of each step.\n",
              "// This uses a Promise to block the python side on completion of each step,\n",
              "// then passes the result of the previous step as the input to the next step.\n",
              "function _uploadFilesContinue(outputId) {\n",
              "  const outputElement = document.getElementById(outputId);\n",
              "  const steps = outputElement.steps;\n",
              "\n",
              "  const next = steps.next(outputElement.lastPromiseValue);\n",
              "  return Promise.resolve(next.value.promise).then((value) => {\n",
              "    // Cache the last promise value to make it available to the next\n",
              "    // step of the generator.\n",
              "    outputElement.lastPromiseValue = value;\n",
              "    return next.value.response;\n",
              "  });\n",
              "}\n",
              "\n",
              "/**\n",
              " * Generator function which is called between each async step of the upload\n",
              " * process.\n",
              " * @param {string} inputId Element ID of the input file picker element.\n",
              " * @param {string} outputId Element ID of the output display.\n",
              " * @return {!Iterable<!Object>} Iterable of next steps.\n",
              " */\n",
              "function* uploadFilesStep(inputId, outputId) {\n",
              "  const inputElement = document.getElementById(inputId);\n",
              "  inputElement.disabled = false;\n",
              "\n",
              "  const outputElement = document.getElementById(outputId);\n",
              "  outputElement.innerHTML = '';\n",
              "\n",
              "  const pickedPromise = new Promise((resolve) => {\n",
              "    inputElement.addEventListener('change', (e) => {\n",
              "      resolve(e.target.files);\n",
              "    });\n",
              "  });\n",
              "\n",
              "  const cancel = document.createElement('button');\n",
              "  inputElement.parentElement.appendChild(cancel);\n",
              "  cancel.textContent = 'Cancel upload';\n",
              "  const cancelPromise = new Promise((resolve) => {\n",
              "    cancel.onclick = () => {\n",
              "      resolve(null);\n",
              "    };\n",
              "  });\n",
              "\n",
              "  // Wait for the user to pick the files.\n",
              "  const files = yield {\n",
              "    promise: Promise.race([pickedPromise, cancelPromise]),\n",
              "    response: {\n",
              "      action: 'starting',\n",
              "    }\n",
              "  };\n",
              "\n",
              "  cancel.remove();\n",
              "\n",
              "  // Disable the input element since further picks are not allowed.\n",
              "  inputElement.disabled = true;\n",
              "\n",
              "  if (!files) {\n",
              "    return {\n",
              "      response: {\n",
              "        action: 'complete',\n",
              "      }\n",
              "    };\n",
              "  }\n",
              "\n",
              "  for (const file of files) {\n",
              "    const li = document.createElement('li');\n",
              "    li.append(span(file.name, {fontWeight: 'bold'}));\n",
              "    li.append(span(\n",
              "        `(${file.type || 'n/a'}) - ${file.size} bytes, ` +\n",
              "        `last modified: ${\n",
              "            file.lastModifiedDate ? file.lastModifiedDate.toLocaleDateString() :\n",
              "                                    'n/a'} - `));\n",
              "    const percent = span('0% done');\n",
              "    li.appendChild(percent);\n",
              "\n",
              "    outputElement.appendChild(li);\n",
              "\n",
              "    const fileDataPromise = new Promise((resolve) => {\n",
              "      const reader = new FileReader();\n",
              "      reader.onload = (e) => {\n",
              "        resolve(e.target.result);\n",
              "      };\n",
              "      reader.readAsArrayBuffer(file);\n",
              "    });\n",
              "    // Wait for the data to be ready.\n",
              "    let fileData = yield {\n",
              "      promise: fileDataPromise,\n",
              "      response: {\n",
              "        action: 'continue',\n",
              "      }\n",
              "    };\n",
              "\n",
              "    // Use a chunked sending to avoid message size limits. See b/62115660.\n",
              "    let position = 0;\n",
              "    do {\n",
              "      const length = Math.min(fileData.byteLength - position, MAX_PAYLOAD_SIZE);\n",
              "      const chunk = new Uint8Array(fileData, position, length);\n",
              "      position += length;\n",
              "\n",
              "      const base64 = btoa(String.fromCharCode.apply(null, chunk));\n",
              "      yield {\n",
              "        response: {\n",
              "          action: 'append',\n",
              "          file: file.name,\n",
              "          data: base64,\n",
              "        },\n",
              "      };\n",
              "\n",
              "      let percentDone = fileData.byteLength === 0 ?\n",
              "          100 :\n",
              "          Math.round((position / fileData.byteLength) * 100);\n",
              "      percent.textContent = `${percentDone}% done`;\n",
              "\n",
              "    } while (position < fileData.byteLength);\n",
              "  }\n",
              "\n",
              "  // All done.\n",
              "  yield {\n",
              "    response: {\n",
              "      action: 'complete',\n",
              "    }\n",
              "  };\n",
              "}\n",
              "\n",
              "scope.google = scope.google || {};\n",
              "scope.google.colab = scope.google.colab || {};\n",
              "scope.google.colab._files = {\n",
              "  _uploadFiles,\n",
              "  _uploadFilesContinue,\n",
              "};\n",
              "})(self);\n",
              "</script> "
            ]
          },
          "metadata": {}
        },
        {
          "output_type": "stream",
          "name": "stdout",
          "text": [
            "Saving sample_data.csv to sample_data.csv\n"
          ]
        }
      ]
    },
    {
      "cell_type": "code",
      "execution_count": null,
      "id": "03a023ed",
      "metadata": {
        "id": "03a023ed"
      },
      "outputs": [],
      "source": [
        "# JUPYTER\n",
        "# with open('sample_data.csv', 'r', encoding='utf-8-sig') as f: \n",
        "#     input_arr = np.genfromtxt(f, dtype=float, delimiter=',')"
      ]
    },
    {
      "cell_type": "code",
      "execution_count": null,
      "id": "9cafa63f",
      "metadata": {
        "id": "9cafa63f"
      },
      "outputs": [],
      "source": [
        "tensor1 = np.reshape(input_arr, (1, 28, 28, 1))"
      ]
    },
    {
      "cell_type": "code",
      "execution_count": null,
      "id": "94631b8a",
      "metadata": {
        "colab": {
          "base_uri": "https://localhost:8080/"
        },
        "id": "94631b8a",
        "outputId": "f2f7144d-1a61-4623-cc0d-3d2c50b062ac"
      },
      "outputs": [
        {
          "output_type": "stream",
          "name": "stdout",
          "text": [
            "This image most likely belongs to [8] with a 100.00 percent confidence.\n"
          ]
        }
      ],
      "source": [
        "prediction = loaded_model.predict(tensor1, verbose=0)\n",
        "score = prediction\n",
        "print(\"This image most likely belongs to {} with a {:.2f} percent confidence.\".format([np.argmax(score)], 100 * np.max(score)))"
      ]
    },
    {
      "cell_type": "code",
      "source": [
        "prediction_labels = []\n",
        "prediction = loaded_model.predict(x_test_new, verbose=0)\n",
        "print(len(prediction))\n",
        "\n",
        "for i in range(len(prediction)):\n",
        "  score = tf.nn.softmax(prediction[i])\n",
        "  best_label = [np.argmax(score)]\n",
        "  prediction_labels.append(best_label)"
      ],
      "metadata": {
        "colab": {
          "base_uri": "https://localhost:8080/"
        },
        "id": "dXu3PHS08uTF",
        "outputId": "a31ad390-7bd8-4deb-aa1d-a46eb72abf04"
      },
      "id": "dXu3PHS08uTF",
      "execution_count": 35,
      "outputs": [
        {
          "output_type": "stream",
          "name": "stdout",
          "text": [
            "10000\n"
          ]
        }
      ]
    },
    {
      "cell_type": "code",
      "source": [
        "pred = np.array(prediction_labels).T\n",
        "misclassified = np.where(y_test != pred)\n",
        "misclassified[1] # indexes where the images are misclassified"
      ],
      "metadata": {
        "colab": {
          "base_uri": "https://localhost:8080/"
        },
        "id": "nB6aqtJAM59D",
        "outputId": "cbe19d69-f6d8-4834-ac09-4972139132fa"
      },
      "id": "nB6aqtJAM59D",
      "execution_count": 36,
      "outputs": [
        {
          "output_type": "execute_result",
          "data": {
            "text/plain": [
              "array([ 115,  247,  321,  449,  619,  659,  674,  716,  740,  846,  938,\n",
              "        947, 1014, 1039, 1112, 1226, 1232, 1242, 1247, 1260, 1319, 1522,\n",
              "       1527, 1570, 1621, 1878, 1901, 1987, 2035, 2130, 2135, 2280, 2293,\n",
              "       2447, 2454, 2488, 2597, 2654, 2771, 2896, 2927, 2939, 2953, 3225,\n",
              "       3422, 3457, 3520, 3559, 3601, 3727, 3859, 4027, 4176, 4248, 4477,\n",
              "       4504, 4536, 4740, 4860, 5827, 5937, 5997, 6166, 6172, 6400, 6571,\n",
              "       6572, 6576, 6597, 6625, 6651, 6783, 7354, 8128, 8325, 8376, 8408,\n",
              "       8527, 9009, 9642, 9664, 9729, 9839])"
            ]
          },
          "metadata": {},
          "execution_count": 36
        }
      ]
    },
    {
      "cell_type": "code",
      "source": [
        "misclassified_images_labels = []\n",
        "flat_list = []\n",
        "for sublist in prediction_labels:\n",
        "  for item in sublist:\n",
        "    flat_list.append(item)\n",
        "pred2 = np.array(flat_list).T\n",
        "\n",
        "for i in misclassified[1]:\n",
        "  false_label = pred2[i]\n",
        "  true_label = y_test[i]\n",
        "  true_image = x_test[i]\n",
        "  misclassified_images_labels.append((true_image, false_label, true_label))"
      ],
      "metadata": {
        "id": "_UlDRpr6SC7x"
      },
      "id": "_UlDRpr6SC7x",
      "execution_count": 37,
      "outputs": []
    },
    {
      "cell_type": "code",
      "source": [],
      "metadata": {
        "id": "S7r1LcJU8cWW"
      },
      "id": "S7r1LcJU8cWW",
      "execution_count": 37,
      "outputs": []
    },
    {
      "cell_type": "code",
      "source": [
        "fig = plt.figure(figsize=(16,16))\n",
        "# plt.title(\"Misclassified images\")\n",
        "for index in range(len(misclassified_images_labels)):\n",
        "    ax = fig.add_subplot(4, 4, index + 1, xticks=[], yticks=[])\n",
        "    image = misclassified_images_labels[index][0]\n",
        "    label_true = misclassified_images_labels[index][1]\n",
        "    label_guess = misclassified_images_labels[index][2]\n",
        "    # bright = avg_brightness(image)\n",
        "    ax.imshow(image)\n",
        "    ax.set_title(\"true: {} predicted: {}\".format(label_true, label_guess))\n",
        "    \n",
        "    if index==15:\n",
        "        break"
      ],
      "metadata": {
        "colab": {
          "base_uri": "https://localhost:8080/",
          "height": 703
        },
        "id": "qvfQ-7-9UeHk",
        "outputId": "5eec1e14-9160-4920-81e0-50752f43031f"
      },
      "id": "qvfQ-7-9UeHk",
      "execution_count": 38,
      "outputs": [
        {
          "output_type": "display_data",
          "data": {
            "text/plain": [
              "<Figure size 1152x1152 with 16 Axes>"
            ],
            "image/png": "[encoded data removed]"
          },
          "metadata": {}
        }
      ]
    },
    {
      "cell_type": "code",
      "source": [
        "fig = plt.figure(figsize=(16,16))\n",
        "# plt.title(\"Misclassified images\")\n",
        "for index in range(len(misclassified_images_labels)):\n",
        "    ax = fig.add_subplot(4, 4, index + 1, xticks=[], yticks=[], )\n",
        "    image = misclassified_images_labels[index][0]\n",
        "    label_true = misclassified_images_labels[index][1]\n",
        "    label_guess = misclassified_images_labels[index][2]\n",
        "    # bright = avg_brightness(image)\n",
        "    ax.set_facecolor('white')\n",
        "    ax.imshow(image,cmap = 'gray')\n",
        "    ax.set_title(\"true: {} predicted: {}\".format(label_true, label_guess),color = 'black',size = 21)\n",
        "    if index==15:\n",
        "        break\n",
        "plt.savefig('misclassified_images_final.png', facecolor='black',dpi = 100)\n"
      ],
      "metadata": {
        "id": "cHRB32z4iFwN",
        "colab": {
          "base_uri": "https://localhost:8080/",
          "height": 699
        },
        "outputId": "97aa78cc-7d0d-4831-c0d7-43bfa7eeea7f"
      },
      "id": "cHRB32z4iFwN",
      "execution_count": 39,
      "outputs": [
        {
          "output_type": "display_data",
          "data": {
            "text/plain": [
              "<Figure size 1152x1152 with 16 Axes>"
            ],
            "image/png": "[encoded data removed]"
          },
          "metadata": {}
        }
      ]
    },
    {
      "cell_type": "code",
      "execution_count": null,
      "id": "bf9af7a4",
      "metadata": {
        "id": "bf9af7a4",
        "colab": {
          "base_uri": "https://localhost:8080/",
          "height": 506
        },
        "outputId": "1b58f9de-2689-4ed9-832b-0c5685f3167e"
      },
      "outputs": [
        {
          "output_type": "stream",
          "name": "stdout",
          "text": [
            "Looking in indexes: https://pypi.org/simple, https://us-python.pkg.dev/colab-wheels/public/simple/\n",
            "Collecting anvil-uplink\n",
            "  Downloading anvil_uplink-0.4.1-py2.py3-none-any.whl (87 kB)\n",
            "\u001b[2K     \u001b[90m━━━━━━━━━━━━━━━━━━━━━━━━━━━━━━━━━━━━━━━━\u001b[0m \u001b[32m88.0/88.0 KB\u001b[0m \u001b[31m10.8 MB/s\u001b[0m eta \u001b[36m0:00:00\u001b[0m\n",
            "\u001b[?25hRequirement already satisfied: future in /usr/local/lib/python3.8/dist-packages (from anvil-uplink) (0.16.0)\n",
            "Collecting argparse\n",
            "  Downloading argparse-1.4.0-py2.py3-none-any.whl (23 kB)\n",
            "Collecting ws4py\n",
            "  Downloading ws4py-0.5.1.tar.gz (51 kB)\n",
            "\u001b[2K     \u001b[90m━━━━━━━━━━━━━━━━━━━━━━━━━━━━━━━━━━━━━━━━\u001b[0m \u001b[32m51.4/51.4 KB\u001b[0m \u001b[31m7.3 MB/s\u001b[0m eta \u001b[36m0:00:00\u001b[0m\n",
            "\u001b[?25h  Preparing metadata (setup.py) ... \u001b[?25l\u001b[?25hdone\n",
            "Requirement already satisfied: six in /usr/local/lib/python3.8/dist-packages (from anvil-uplink) (1.15.0)\n",
            "Building wheels for collected packages: ws4py\n",
            "  Building wheel for ws4py (setup.py) ... \u001b[?25l\u001b[?25hdone\n",
            "  Created wheel for ws4py: filename=ws4py-0.5.1-py3-none-any.whl size=45229 sha256=1d90bf4d9939c7164fa194eab6c0df87e7295bbd1c96ecff3754118117a995a5\n",
            "  Stored in directory: /root/.cache/pip/wheels/ea/f9/a1/34e2943cce3cf7daca304bfc35e91280694ced9194a487ce2f\n",
            "Successfully built ws4py\n",
            "Installing collected packages: ws4py, argparse, anvil-uplink\n",
            "Successfully installed anvil-uplink-0.4.1 argparse-1.4.0 ws4py-0.5.1\n"
          ]
        },
        {
          "output_type": "display_data",
          "data": {
            "application/vnd.colab-display-data+json": {
              "pip_warning": {
                "packages": [
                  "argparse",
                  "google"
                ]
              }
            }
          },
          "metadata": {}
        },
        {
          "output_type": "stream",
          "name": "stdout",
          "text": [
            "Connecting to wss://anvil.works/uplink\n",
            "Anvil websocket open\n",
            "Connected to \"Default environment\" as SERVER\n"
          ]
        }
      ],
      "source": [
        "#!/usr/bin/env python\n",
        "# coding: utf-8\n",
        "\n",
        "# In[ ]:\n",
        "\n",
        "!pip install anvil-uplink\n",
        "import anvil.server\n",
        "import anvil.media\n",
        "anvil.server.connect(\"QFZVCNPWV6BQLTOTEFDETTUR-C37VHTCCT5HSJTNF\")\n",
        "\n",
        "@anvil.server.callable\n",
        "def optiIIhw1webscript(user_file):\n",
        "    import tensorflow as tf\n",
        "    from tensorflow import keras\n",
        "    from tensorflow.keras import layers\n",
        "    from tensorflow.keras.models import Sequential\n",
        "    from keras.models import load_model\n",
        "    loaded_model = load_model(\"mnistmodel.h5\")\n",
        "    import numpy as np\n",
        "    with anvil.media.TempFile(user_file) as user_file2:\n",
        "      with open(user_file2, 'r', encoding='utf-8-sig') as f: \n",
        "          input_arr = np.genfromtxt(f, dtype=float, delimiter=',') # trying to solve BOM issue (Byte Order Mark)\n",
        "      tensor1 = np.reshape(input_arr, (1, 28, 28, 1))\n",
        "      prediction = loaded_model.predict(tensor1, verbose=0)\n",
        "      score = prediction\n",
        "      return (\"This image most likely belongs to number {} with a {:.2f} percent confidence.\".format(np.argmax(score), 100 * np.max(score)))"
      ]
    }
  ],
  "metadata": {
    "kernelspec": {
      "display_name": "Python 3 (ipykernel)",
      "language": "python",
      "name": "python3"
    },
    "language_info": {
      "codemirror_mode": {
        "name": "ipython",
        "version": 3
      },
      "file_extension": ".py",
      "mimetype": "text/x-python",
      "name": "python",
      "nbconvert_exporter": "python",
      "pygments_lexer": "ipython3",
      "version": "3.9.12"
    },
    "colab": {
      "provenance": [],
      "toc_visible": true
    },
    "accelerator": "GPU",
    "gpuClass": "standard"
  },
  "nbformat": 4,
  "nbformat_minor": 5
}